{
  "nbformat": 4,
  "nbformat_minor": 0,
  "metadata": {
    "colab": {
      "name": "test.ipynb",
      "provenance": [],
      "collapsed_sections": []
    },
    "kernelspec": {
      "name": "python3",
      "display_name": "Python 3"
    },
    "accelerator": "GPU"
  },
  "cells": [
    {
      "cell_type": "code",
      "metadata": {
        "colab": {
          "base_uri": "https://localhost:8080/"
        },
        "id": "99Ktn6LLQP7W",
        "outputId": "9bde787e-0f2c-43d0-b49c-9cb8ca8e2b6e"
      },
      "source": [
        "import torch\n",
        "import torch.nn as nn\n",
        "import torch.nn.functional as F\n",
        "\n",
        "from torch.utils.data import Dataset\n",
        "from torch.utils.data import DataLoader\n",
        "\n",
        "class MyData(Dataset):\n",
        "\tdef __init__(self): \n",
        "\t\tself.x_train = [[i]*(i+1) for i in range(10)]\n",
        "\t\tself.y_train = [[i] for i in range(10)]\n",
        "\t\t\n",
        "\tdef __len__(self):\n",
        "\t\treturn 10\n",
        "    \n",
        "\tdef __getitem__(self, idx):\n",
        "\t\tx = torch.FloatTensor(self.x_train[idx])\n",
        "\t\ty = torch.FloatTensor(self.y_train[idx])\n",
        "\t\treturn x, y\n",
        "\n",
        "def my_collate_fn(data):\n",
        "\tinput = [d[0] for d in data]\n",
        "\tlabel = [d[1] for d in data]\n",
        "\tpadding = torch.nn.utils.rnn.pad_sequence(input, batch_first=True);return padding, label\n",
        "\n",
        "\n",
        "my_dataset = MyData()\n",
        "dataloader = DataLoader(my_dataset, collate_fn=my_collate_fn, batch_size=3)\n",
        "for data in dataloader:\n",
        "    print(data[0], data[1])"
      ],
      "execution_count": 48,
      "outputs": [
        {
          "output_type": "stream",
          "name": "stdout",
          "text": [
            "tensor([[0., 0., 0.],\n",
            "        [1., 1., 0.],\n",
            "        [2., 2., 2.]]) [tensor([0.]), tensor([1.]), tensor([2.])]\n",
            "tensor([[3., 3., 3., 3., 0., 0.],\n",
            "        [4., 4., 4., 4., 4., 0.],\n",
            "        [5., 5., 5., 5., 5., 5.]]) [tensor([3.]), tensor([4.]), tensor([5.])]\n",
            "tensor([[6., 6., 6., 6., 6., 6., 6., 0., 0.],\n",
            "        [7., 7., 7., 7., 7., 7., 7., 7., 0.],\n",
            "        [8., 8., 8., 8., 8., 8., 8., 8., 8.]]) [tensor([6.]), tensor([7.]), tensor([8.])]\n",
            "tensor([[9., 9., 9., 9., 9., 9., 9., 9., 9., 9.]]) [tensor([9.])]\n"
          ]
        }
      ]
    }
  ]
}