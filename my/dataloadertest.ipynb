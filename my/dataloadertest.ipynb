import torch
import torch.nn as nn
import torch.nn.functional as F

from torch.utils.data import TensorDataset
from torch.utils.data import DataLoader

x_train = torch.FloatTensor([[70, 77, 72],
                             [90, 85, 90],
														 [86, 88, 87],
														 [93, 95, 97],
														 [70, 63, 67]])
y_train = torch.FloatTensor([[152],[185],[180],[196],[142]])
dataset = TensorDataset(x_train, y_train)
dataloader = DataLoader(dataset, batch_size=2, shuffle=True)
model = nn.Linear(3,1)
optimizer = torch.optim.SGD(model.parameters(), lr=1e-5)

total_epochs = 20
for epoch in range(total_epochs+1):
	for batch_idx, samples in enumerate(dataloader):
		x_train, y_train=samples
		prediction = model(x_train)
		loss=F.mse_loss(prediction, y_train)
	
		optimizer.zero_grad()
		loss.backward()
		optimizer.step()
		print('Epoch {:4d}/{} Barch {}/{} Cost: {:.6f}'.format(epoch, total_epochs, batch_idx+1,len(dataloader), loss.item()))
	
